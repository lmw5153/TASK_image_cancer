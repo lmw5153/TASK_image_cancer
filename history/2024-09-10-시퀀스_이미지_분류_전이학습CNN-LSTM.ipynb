{
 "cells": [
  {
   "cell_type": "code",
   "execution_count": 1,
   "id": "967011b2",
   "metadata": {},
   "outputs": [
    {
     "data": {
      "image/png": "[encoded data removed]",
      "text/plain": [
       "<Figure size 640x480 with 2 Axes>"
      ]
     },
     "metadata": {},
     "output_type": "display_data"
    }
   ],
   "source": [
    "import numpy as np\n",
    "import tensorflow as tf\n",
    "import matplotlib.pyplot as plt\n",
    "import pandas as pd\n",
    "from tensorflow.keras.applications import ResNet50\n",
    "from tensorflow.keras.layers import Dense, GlobalAveragePooling2D\n",
    "from tensorflow.keras.models import Model\n",
    "from tensorflow.keras.optimizers import Adam\n",
    "from tensorflow.keras.preprocessing.image import ImageDataGenerator\n",
    "from tensorflow.keras.datasets import mnist\n",
    "from tensorflow.keras.utils import to_categorical\n",
    "from tensorflow.keras.models import Sequential\n",
    "from tensorflow.keras.layers import TimeDistributed, LSTM, Dense, Flatten\n",
    "\n",
    "#from input_output_data1 import X_test, X_train, y_train_5, y_test_5\n",
    "from data_cancer_seq import X_test_seq, X_train_seq, y_train, y_test"
   ]
  },
  {
   "cell_type": "code",
   "execution_count": 3,
   "id": "6429359d",
   "metadata": {},
   "outputs": [
    {
     "name": "stdout",
     "output_type": "stream",
     "text": [
      "Model: \"sequential_1\"\n",
      "_________________________________________________________________\n",
      " Layer (type)                Output Shape              Param #   \n",
      "=================================================================\n",
      " time_distributed_2 (TimeDis  (None, 5, 7, 7, 2048)    23587712  \n",
      " tributed)                                                       \n",
      "                                                                 \n",
      " time_distributed_3 (TimeDis  (None, 5, 100352)        0         \n",
      " tributed)                                                       \n",
      "                                                                 \n",
      " lstm_1 (LSTM)               (None, 5, 50)             20080600  \n",
      "                                                                 \n",
      " lstm_2 (LSTM)               (None, 5)                 1120      \n",
      "                                                                 \n",
      " dense_1 (Dense)             (None, 1)                 6         \n",
      "                                                                 \n",
      "=================================================================\n",
      "Total params: 43,669,438\n",
      "Trainable params: 20,081,726\n",
      "Non-trainable params: 23,587,712\n",
      "_________________________________________________________________\n"
     ]
    }
   ],
   "source": [
    "\n",
    "base_model = ResNet50(weights='imagenet', include_top=False, input_shape=(224, 224, 3))\n",
    "base_model.trainable = False\n",
    "\n",
    "# CNN-LSTM 모델 구축\n",
    "model = Sequential()\n",
    "\n",
    "# TimeDistributed를 이용해 각 프레임에 ResNet50 적용 (프레임마다 CNN 적용)\n",
    "model.add(TimeDistributed(base_model, input_shape=(5, 224, 224, 3)))\n",
    "\n",
    "# ResNet50 출력된 특징을 Flatten으로 펼침\n",
    "model.add(TimeDistributed(Flatten()))\n",
    "\n",
    "model.add(LSTM(50, return_sequences=True))\n",
    "model.add(LSTM(5, return_sequences=False))\n",
    "\n",
    "\n",
    "model.add(Dense(1))  \n",
    "model.compile(optimizer='adam', loss='binary_crossentropy', metrics=['accuracy'])\n",
    "\n",
    "model.summary()\n"
   ]
  },
  {
   "cell_type": "code",
   "execution_count": 4,
   "id": "30d3cbf9",
   "metadata": {
    "scrolled": false
   },
   "outputs": [
    {
     "name": "stdout",
     "output_type": "stream",
     "text": [
      "Epoch 1/10\n",
      "21/21 [==============================] - 74s 3s/step - loss: 1.2799 - accuracy: 0.1390 - val_loss: 0.7023 - val_accuracy: 0.1587\n",
      "Epoch 2/10\n",
      "21/21 [==============================] - 69s 3s/step - loss: 0.5669 - accuracy: 0.8610 - val_loss: 0.4997 - val_accuracy: 0.8413\n",
      "Epoch 3/10\n",
      "21/21 [==============================] - 70s 3s/step - loss: 0.4333 - accuracy: 0.8731 - val_loss: 0.4453 - val_accuracy: 0.8413\n",
      "Epoch 4/10\n",
      "21/21 [==============================] - 70s 3s/step - loss: 0.3877 - accuracy: 0.8731 - val_loss: 0.4388 - val_accuracy: 0.8413\n",
      "Epoch 5/10\n",
      "21/21 [==============================] - 69s 3s/step - loss: 0.3846 - accuracy: 0.8731 - val_loss: 0.4439 - val_accuracy: 0.8413\n",
      "Epoch 6/10\n",
      "21/21 [==============================] - 70s 3s/step - loss: 0.3815 - accuracy: 0.8731 - val_loss: 0.4402 - val_accuracy: 0.8413\n",
      "Epoch 7/10\n",
      "21/21 [==============================] - 70s 3s/step - loss: 0.3819 - accuracy: 0.8731 - val_loss: 0.4432 - val_accuracy: 0.8413\n",
      "Epoch 8/10\n",
      "21/21 [==============================] - 70s 3s/step - loss: 0.3814 - accuracy: 0.8731 - val_loss: 0.4414 - val_accuracy: 0.8413\n",
      "Epoch 9/10\n",
      "21/21 [==============================] - 71s 3s/step - loss: 0.3816 - accuracy: 0.8731 - val_loss: 0.4404 - val_accuracy: 0.8413\n",
      "Epoch 10/10\n",
      "21/21 [==============================] - 70s 3s/step - loss: 0.3820 - accuracy: 0.8731 - val_loss: 0.4421 - val_accuracy: 0.8413\n"
     ]
    },
    {
     "data": {
      "text/plain": [
       "<keras.callbacks.History at 0x18cadfcc6a0>"
      ]
     },
     "execution_count": 4,
     "metadata": {},
     "output_type": "execute_result"
    }
   ],
   "source": [
    "model.fit(X_train_seq, y_train, validation_data=(X_test_seq, y_test), epochs=5, batch_size=16)"
   ]
  },
  {
   "cell_type": "code",
   "execution_count": 7,
   "id": "66906cf3",
   "metadata": {},
   "outputs": [
    {
     "name": "stdout",
     "output_type": "stream",
     "text": [
      "4/4 [==============================] - 19s 4s/step\n"
     ]
    }
   ],
   "source": [
    "pred = model.predict(X_test_seq)"
   ]
  }
 ],
 "metadata": {
  "kernelspec": {
   "display_name": "Python 3 (ipykernel)",
   "language": "python",
   "name": "python3"
  },
  "language_info": {
   "codemirror_mode": {
    "name": "ipython",
    "version": 3
   },
   "file_extension": ".py",
   "mimetype": "text/x-python",
   "name": "python",
   "nbconvert_exporter": "python",
   "pygments_lexer": "ipython3",
   "version": "3.10.9"
  }
 },
 "nbformat": 4,
 "nbformat_minor": 5
}
