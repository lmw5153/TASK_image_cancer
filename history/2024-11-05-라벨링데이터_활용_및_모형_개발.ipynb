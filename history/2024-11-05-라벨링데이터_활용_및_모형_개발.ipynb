{
 "cells": [
  {
   "cell_type": "code",
   "execution_count": 74,
   "id": "94792dfd-028e-489e-8217-4fa3bf6cb50e",
   "metadata": {},
   "outputs": [
    {
     "name": "stdout",
     "output_type": "stream",
     "text": [
      "(100, 100, 3)\n",
      "(5, 100, 100, 3)\n"
     ]
    }
   ],
   "source": [
    "import glob\n",
    "import json\n",
    "import numpy as np\n",
    "import matplotlib.pyplot as plt\n",
    "from matplotlib.patches import Polygon\n",
    "import pandas as pd\n",
    "import numpy as np\n",
    "from PIL import Image, ImageDraw\n",
    "# json_square 폴더 내 모든 JSON 파일 경로 가져오기\n",
    "json_files = glob.glob('json/X_train/*.json')\n",
    "\n",
    "# JSON 파일 데이터를 저장할 리스트\n",
    "data_list = []\n",
    "\n",
    "# 각 JSON 파일을 열고 데이터를 불러오기\n",
    "for file in json_files:\n",
    "    with open(file, 'r', encoding='utf-8') as f:\n",
    "        data = json.load(f)\n",
    "        data_list.append(data)\n",
    "\n",
    "###################################################################\n",
    "def extract_polygon_center_crop_as_array(json_file_path, image_file_path, crop_size=(300, 300)):\n",
    "    \"\"\"\n",
    "    폴리곤 내부 이미지를 추출하고 중심을 기준으로 crop_size로 자른 후, numpy 배열로 반환합니다.\n",
    "\n",
    "    Parameters:\n",
    "    - json_file_path (str): JSON 파일 경로\n",
    "    - image_file_path (str): 이미지 파일 경로\n",
    "    - crop_size (tuple): 자를 이미지의 크기 (width, height)\n",
    "\n",
    "    Returns:\n",
    "    - np.ndarray: 자른 이미지의 numpy 배열\n",
    "    \"\"\"\n",
    "    # JSON 파일에서 폴리곤 좌표 읽기\n",
    "    with open(json_file_path, 'r') as f:\n",
    "        data = json.load(f)\n",
    "        polygon_points = data['shapes'][0]['points']  # 폴리곤 좌표\n",
    "\n",
    "    # 이미지 불러오기\n",
    "    image = Image.open(image_file_path).convert(\"RGB\")\n",
    "\n",
    "    # 폴리곤 마스크 생성\n",
    "    mask = Image.new(\"L\", image.size, 0)\n",
    "    draw = ImageDraw.Draw(mask)\n",
    "    polygon_points = [(int(point[0]), int(point[1])) for point in polygon_points]  # 좌표 정수 변환\n",
    "    draw.polygon(polygon_points, fill=255)\n",
    "\n",
    "    # 마스크 적용하여 폴리곤 내부 이미지 추출\n",
    "    masked_image = Image.composite(image, Image.new(\"RGB\", image.size), mask)\n",
    "\n",
    "    # 폴리곤 중심 계산\n",
    "    polygon_array = np.array(polygon_points)\n",
    "    center_x = int(np.mean(polygon_array[:, 0]))\n",
    "    center_y = int(np.mean(polygon_array[:, 1]))\n",
    "\n",
    "    # 중앙 기준으로 잘라낼 좌표 계산\n",
    "    left = max(0, center_x - crop_size[0] // 2)\n",
    "    upper = max(0, center_y - crop_size[1] // 2)\n",
    "    right = min(masked_image.size[0], center_x + crop_size[0] // 2)\n",
    "    lower = min(masked_image.size[1], center_y + crop_size[1] // 2)\n",
    "\n",
    "    # 이미지 자르기\n",
    "    cropped_image = masked_image.crop((left, upper, right, lower))\n",
    "    #cropped_array = np.expand_dims(cropped_image, axis=2)\n",
    "\n",
    "    # numpy 배열로 변환 후 반환\n",
    "    return np.array(cropped_image) / 255\n",
    "\n",
    "# 사용 예시\n",
    "json_file_path = 'json/X_train/' + data_list[0]['shapes'][0]['label'] + '.json'\n",
    "image_file_path = '../data/X_train/' + data_list[0]['shapes'][0]['label'] + '.tif'\n",
    "cropped_image_array = extract_polygon_center_crop_as_array(json_file_path, image_file_path, crop_size=(100, 100))\n",
    "\n",
    "print(cropped_image_array.shape)  # 출력 형태 예시\n",
    "#plt.imshow(cropped_image_array)\n",
    "####################################################################################\n",
    "img = []\n",
    "for i in range(len(data_list)):\n",
    "    json_file_path = 'json/X_train/' + data_list[i]['shapes'][0]['label'] + '.json'\n",
    "    image_file_path = '../data/X_train/' + data_list[i]['shapes'][0]['label'] + '.tif'\n",
    "    cropped_image_array = extract_polygon_center_crop_as_array(json_file_path, image_file_path, crop_size=(100, 100))\n",
    "    img.append(cropped_image_array)\n",
    "\n",
    "a = [data_list[i]['imagePath']for i in range(len(data_list))]\n",
    "\n",
    "\n",
    "b=[[a[i],img[i]] for i in range(len(img))]\n",
    "b.sort(key=lambda x: x[0])\n",
    "df = pd.DataFrame(b)\n",
    "\n",
    "def convert_to_batches(df, batch_size=5, img_shape=(100, 100)):\n",
    "    \"\"\"\n",
    "    데이터프레임의 이미지 데이터를 5개씩 묶어 (N, 5, 100, 100) 형태로 변환합니다.\n",
    "    \n",
    "    Parameters:\n",
    "    - df: DataFrame, 이미지 데이터가 포함된 데이터프레임\n",
    "    - batch_size: int, 묶을 이미지 개수 (기본값 5)\n",
    "    - img_shape: tuple, 각 이미지의 모양 (기본값 (100, 100))\n",
    "    \n",
    "    Returns:\n",
    "    - np.ndarray: (N, batch_size, 100, 100) 형태의 배열\n",
    "    \"\"\"\n",
    "    img_batches = []\n",
    "    for i in range(0, len(df), batch_size):\n",
    "        # 이미지 5개씩 가져와서 리스트에 추가\n",
    "        batch = [df.iloc[i:(i+batch_size), -1:].values[j][0] for j in range(batch_size) if i + j < len(df)]\n",
    "        \n",
    "        # 5개가 되지 않으면 패스 (끝 부분 처리)\n",
    "        if len(batch) < batch_size:\n",
    "            break\n",
    "        \n",
    "        # (5, 100, 100)으로 스택\n",
    "        batch = np.stack(batch, axis=0)\n",
    "        img_batches.append(batch)\n",
    "    \n",
    "    # (N, 5, 100, 100) 형태로 변환\n",
    "    #img_batches = np.stack(img_batches, axis=2)\n",
    "    \n",
    "    return img_batches\n",
    "\n",
    "# 예시 사용\n",
    "img_batches = convert_to_batches(df, batch_size=5, img_shape=(100, 100))\n",
    "print(img_batches[0].shape)\n",
    "\n",
    "#######################################\n",
    "no_img=pd.read_csv(\"../data/no_image_train_X.csv\").iloc[:,1:]\n",
    "\n",
    "df__= pd.DataFrame([img_batches]).T\n",
    "\n",
    "\n",
    "name=[]\n",
    "for j in range(331):\n",
    "    asdf=np.array([b[i][0] for i in range(len(b))]).reshape(-1,5)[:,0].tolist()[j][8:-6]\n",
    "    name.append(asdf)\n",
    "idx = np.array([name[i] for i in range(331)]).astype(int)\n",
    "y = pd.read_csv(\"../data/no_image_train_y.csv\").iloc[:,1:].T[idx].T.reset_index().iloc[:,1:]\n",
    "\n",
    "no_img.T[idx].T.reset_index().iloc[:,1:]\n",
    "\n",
    "\n",
    "\n",
    "fin_df = pd.concat([pd.DataFrame(name),df__,no_img.T[idx].T.reset_index().iloc[:,1:],y],axis=1)\n",
    "true_df = fin_df[fin_df.iloc[:,-1] == 1]\n",
    "false_df = fin_df[fin_df.iloc[:,-1] == 0]\n",
    "dddf = pd.concat([false_df,true_df,true_df,true_df,true_df,true_df,true_df,true_df,true_df,true_df])\n",
    "dddf=dddf.reset_index().iloc[:,1:]\n",
    "\n",
    "###############################################################################################"
   ]
  },
  {
   "cell_type": "code",
   "execution_count": 92,
   "id": "7fa18433-344f-48de-8692-ac2c32f2faab",
   "metadata": {},
   "outputs": [
    {
     "name": "stdout",
     "output_type": "stream",
     "text": [
      "(100, 100, 3)\n",
      "(5, 100, 100, 3)\n"
     ]
    }
   ],
   "source": [
    "# JSON 파일 경로 및 이미지 파일 경로에서 'train'을 'test'로 변경\n",
    "json_files = glob.glob('json/X_test/*.json')  # 폴더명을 X_test로 변경\n",
    "\n",
    "# JSON 파일 데이터를 저장할 리스트\n",
    "data_list = []\n",
    "\n",
    "# 각 JSON 파일을 열고 데이터를 불러오기\n",
    "for file in json_files:\n",
    "    with open(file, 'r', encoding='utf-8') as f:\n",
    "        data = json.load(f)\n",
    "        data_list.append(data)\n",
    "\n",
    "# 이미지 경로 및 데이터 추출 함수 사용\n",
    "img = []\n",
    "for i in range(len(data_list)):\n",
    "    json_file_path = 'json/X_test/' + data_list[i]['shapes'][0]['label'] + '.json'  # X_test로 변경\n",
    "    image_file_path = '../data/X_test/' + data_list[i]['shapes'][0]['label'] + '.tif'  # X_test로 변경\n",
    "    cropped_image_array = extract_polygon_center_crop_as_array(json_file_path, image_file_path, crop_size=(100, 100))\n",
    "    img.append(cropped_image_array)\n",
    "print(cropped_image_array.shape)  # 출력 형태 예시\n",
    "\n",
    "a = [data_list[i]['imagePath'] for i in range(len(data_list))]\n",
    "\n",
    "# DataFrame 생성 및 정렬 후 'train'을 'test'로 변환\n",
    "b = [[a[i], img[i]] for i in range(len(img))]\n",
    "b.sort(key=lambda x: x[0])\n",
    "df = pd.DataFrame(b)\n",
    "\n",
    "img_batches = convert_to_batches(df, batch_size=5, img_shape=(100, 100))\n",
    "print(img_batches[0].shape)\n",
    "# 새로운 'no_image_test_X.csv' 파일을 불러오기\n",
    "no_img = pd.read_csv(\"../data/no_image_test_X.csv\").iloc[:, 1:]\n",
    "df__= pd.DataFrame([img_batches]).T\n",
    "\n",
    "# 업데이트된 인덱스 정보 반영\n",
    "name = []\n",
    "ccc = 123\n",
    "for j in range(ccc):\n",
    "    asdf = np.array([b[i][0] for i in range(len(b))]).reshape(-1, 5)[:, 0].tolist()[j][7:-6]\n",
    "    name.append(asdf)\n",
    "idx = np.array([name[i] for i in range(ccc)]).astype(int)\n",
    "\n",
    "# y 데이터 및 no_img 데이터에서 'train'을 'test'로 변경\n",
    "y = pd.read_csv(\"../data/no_image_test_y.csv\").iloc[:, 1:].T[idx].T.reset_index().iloc[:, 1:]\n",
    "no_img_test = no_img.T[idx].T.reset_index().iloc[:, 1:]\n",
    "\n",
    "# 최종 DataFrame 결합\n",
    "fin_test_df = pd.concat([pd.DataFrame(name), df__, no_img_test, y], axis=1)\n",
    "\n",
    "# True와 False 데이터프레임 나누기 및 클래스 불균형 조정\n",
    "#true_df = fin_df[fin_df.iloc[:, -1] == 1]\n",
    "#false_df = fin_df[fin_df.iloc[:, -1] == 0]\n",
    "#dddf = pd.concat([false_df, true_df, true_df, true_df, true_df, true_df, true_df, true_df, true_df, true_df])\n",
    "#dddf = dddf.reset_index().iloc[:, 1:]\n"
   ]
  },
  {
   "cell_type": "markdown",
   "id": "df23d2a5-78b0-4173-b8a2-566857910fc9",
   "metadata": {},
   "source": [
    "---"
   ]
  },
  {
   "cell_type": "code",
   "execution_count": 76,
   "id": "ee2e2efb-81e3-4a71-9844-4dcb24b85913",
   "metadata": {},
   "outputs": [],
   "source": [
    "arrrr = [dddf.iloc[:,1].values.tolist()[i] for i in range(len(dddf))]\n",
    "fixed_arrays = [arr if arr.shape == (5, 100, 100, 3) else np.resize(arr, (5, 100, 100, 3)) for arr in arrrr]\n",
    "stacked_array = np.stack(fixed_arrays)\n",
    "train_X = stacked_array[:,3,:,:,:]\n",
    "train_y = dddf.iloc[:,-1]"
   ]
  },
  {
   "cell_type": "code",
   "execution_count": 98,
   "id": "522d8342-de25-484c-ada6-13225a88de54",
   "metadata": {},
   "outputs": [],
   "source": [
    "arrrr1 = [fin_test_df.iloc[:,1].values.tolist()[i] for i in range(len(fin_test_df))]\n",
    "fixed_arrays1 = [arr if arr.shape == (5, 100, 100, 3) else np.resize(arr, (5, 100, 100, 3)) for arr in arrrr1]\n",
    "stacked_array1 = np.stack(fixed_arrays1)\n",
    "test_X = stacked_array1[:,3,:,:,:]\n",
    "test_y = fin_test_df.iloc[:,-1]"
   ]
  },
  {
   "cell_type": "code",
   "execution_count": 123,
   "id": "72d74a9b-75a4-4923-aa4e-4ecd00dc698e",
   "metadata": {},
   "outputs": [],
   "source": [
    "noimg_train_X= dddf.iloc[:,2:-1]\n",
    "noimg_test_X=fin_test_df.iloc[:,2:-1]"
   ]
  },
  {
   "cell_type": "markdown",
   "id": "4145c9fe-de81-4e39-8ee9-1d77a5f76e32",
   "metadata": {},
   "source": [
    "---\n",
    "# model1"
   ]
  },
  {
   "cell_type": "code",
   "execution_count": 50,
   "id": "9f4de511-c0b4-46ee-8f81-3d22170b08d0",
   "metadata": {
    "scrolled": true
   },
   "outputs": [
    {
     "name": "stderr",
     "output_type": "stream",
     "text": [
      "2024-11-05 01:22:16.490420: I tensorflow/core/platform/cpu_feature_guard.cc:193] This TensorFlow binary is optimized with oneAPI Deep Neural Network Library (oneDNN) to use the following CPU instructions in performance-critical operations:  AVX2 FMA\n",
      "To enable them in other operations, rebuild TensorFlow with the appropriate compiler flags.\n",
      "2024-11-05 01:22:16.563210: W tensorflow/compiler/xla/stream_executor/platform/default/dso_loader.cc:64] Could not load dynamic library 'libcudart.so.11.0'; dlerror: libcudart.so.11.0: cannot open shared object file: No such file or directory\n",
      "2024-11-05 01:22:16.563228: I tensorflow/compiler/xla/stream_executor/cuda/cudart_stub.cc:29] Ignore above cudart dlerror if you do not have a GPU set up on your machine.\n",
      "2024-11-05 01:22:16.934175: W tensorflow/compiler/xla/stream_executor/platform/default/dso_loader.cc:64] Could not load dynamic library 'libnvinfer.so.7'; dlerror: libnvinfer.so.7: cannot open shared object file: No such file or directory\n",
      "2024-11-05 01:22:16.934230: W tensorflow/compiler/xla/stream_executor/platform/default/dso_loader.cc:64] Could not load dynamic library 'libnvinfer_plugin.so.7'; dlerror: libnvinfer_plugin.so.7: cannot open shared object file: No such file or directory\n",
      "2024-11-05 01:22:16.934236: W tensorflow/compiler/tf2tensorrt/utils/py_utils.cc:38] TF-TRT Warning: Cannot dlopen some TensorRT libraries. If you would like to use Nvidia GPU with TensorRT, please make sure the missing libraries mentioned above are installed properly.\n"
     ]
    },
    {
     "name": "stdout",
     "output_type": "stream",
     "text": [
      "Model: \"sequential\"\n",
      "_________________________________________________________________\n",
      " Layer (type)                Output Shape              Param #   \n",
      "=================================================================\n",
      " conv2d (Conv2D)             (None, 98, 98, 32)        896       \n",
      "                                                                 \n",
      " max_pooling2d (MaxPooling2D  (None, 49, 49, 32)       0         \n",
      " )                                                               \n",
      "                                                                 \n",
      " conv2d_1 (Conv2D)           (None, 47, 47, 64)        18496     \n",
      "                                                                 \n",
      " max_pooling2d_1 (MaxPooling  (None, 23, 23, 64)       0         \n",
      " 2D)                                                             \n",
      "                                                                 \n",
      " conv2d_2 (Conv2D)           (None, 21, 21, 128)       73856     \n",
      "                                                                 \n",
      " max_pooling2d_2 (MaxPooling  (None, 10, 10, 128)      0         \n",
      " 2D)                                                             \n",
      "                                                                 \n",
      " flatten (Flatten)           (None, 12800)             0         \n",
      "                                                                 \n",
      " dense (Dense)               (None, 128)               1638528   \n",
      "                                                                 \n",
      " dropout (Dropout)           (None, 128)               0         \n",
      "                                                                 \n",
      " dense_1 (Dense)             (None, 1)                 129       \n",
      "                                                                 \n",
      "=================================================================\n",
      "Total params: 1,731,905\n",
      "Trainable params: 1,731,905\n",
      "Non-trainable params: 0\n",
      "_________________________________________________________________\n"
     ]
    },
    {
     "name": "stderr",
     "output_type": "stream",
     "text": [
      "2024-11-05 01:22:18.062428: E tensorflow/compiler/xla/stream_executor/cuda/cuda_driver.cc:267] failed call to cuInit: CUDA_ERROR_NO_DEVICE: no CUDA-capable device is detected\n",
      "2024-11-05 01:22:18.062465: I tensorflow/compiler/xla/stream_executor/cuda/cuda_diagnostics.cc:156] kernel driver does not appear to be running on this host (ymlee2-desktop): /proc/driver/nvidia/version does not exist\n",
      "2024-11-05 01:22:18.063112: I tensorflow/core/platform/cpu_feature_guard.cc:193] This TensorFlow binary is optimized with oneAPI Deep Neural Network Library (oneDNN) to use the following CPU instructions in performance-critical operations:  AVX2 FMA\n",
      "To enable them in other operations, rebuild TensorFlow with the appropriate compiler flags.\n"
     ]
    }
   ],
   "source": [
    "from keras.models import Sequential\n",
    "from keras.layers import Conv2D, MaxPooling2D, Flatten, Dense, Dropout, BatchNormalization\n",
    "from keras.optimizers import Adam\n",
    "import os\n",
    "from PIL import Image\n",
    "import numpy as np\n",
    "import matplotlib.pyplot as plt\n",
    "import tensorflow as tf\n",
    "from tensorflow.keras import layers, models\n",
    "from tensorflow.keras.optimizers import Adam\n",
    "import keras.backend as K\n",
    "from keras.callbacks import EarlyStopping\n",
    "# 모델 초기화\n",
    "def model_base():\n",
    "    K.clear_session()\n",
    "    model = Sequential()\n",
    "    \n",
    "    # 1번째 합성곱 층\n",
    "    model.add(Conv2D(32, (3, 3), activation='relu', input_shape=(100, 100, 3)))  # 흑백 이미지\n",
    "    model.add(MaxPooling2D(pool_size=(2, 2)))\n",
    "    \n",
    "    # 2번째 합성곱 층\n",
    "    model.add(Conv2D(64, (3, 3), activation='relu'))\n",
    "    model.add(MaxPooling2D(pool_size=(2, 2)))\n",
    "    \n",
    "    # 3번째 합성곱 층\n",
    "    model.add(Conv2D(128, (3, 3), activation='relu'))\n",
    "    model.add(MaxPooling2D(pool_size=(2, 2)))\n",
    "    \n",
    "    # Flatten\n",
    "    model.add(Flatten())\n",
    "    \n",
    "    # Dense 층\n",
    "    model.add(Dense(128, activation='relu'))\n",
    "    model.add(Dropout(0.5))\n",
    "    # 출력 레이어\n",
    "    model.add(Dense(1, activation='sigmoid'))  # 이진 분류\n",
    "    \n",
    "    # 모델 컴파일\n",
    "    model.compile(optimizer=Adam(learning_rate=0.0005), loss='binary_crossentropy', metrics=['accuracy'])\n",
    "    return model\n",
    "\n",
    "# 모델 요약 출력\n",
    "model1 = model_base()\n",
    "model1.summary()"
   ]
  },
  {
   "cell_type": "code",
   "execution_count": 52,
   "id": "350571cd-24eb-4572-8195-2e7974f6d268",
   "metadata": {
    "scrolled": true
   },
   "outputs": [
    {
     "name": "stdout",
     "output_type": "stream",
     "text": [
      "Epoch 1/30\n",
      "27/27 [==============================] - 2s 42ms/step - loss: 0.5767 - accuracy: 0.7370 - val_loss: 1.2030 - val_accuracy: 0.3591\n",
      "Epoch 2/30\n",
      "27/27 [==============================] - 1s 39ms/step - loss: 0.5079 - accuracy: 0.7678 - val_loss: 0.8824 - val_accuracy: 0.4696\n",
      "Epoch 3/30\n",
      "27/27 [==============================] - 1s 38ms/step - loss: 0.4674 - accuracy: 0.7796 - val_loss: 0.8672 - val_accuracy: 0.4420\n",
      "Epoch 4/30\n",
      "27/27 [==============================] - 1s 39ms/step - loss: 0.4240 - accuracy: 0.8033 - val_loss: 0.5831 - val_accuracy: 0.6133\n",
      "Epoch 5/30\n",
      "27/27 [==============================] - 1s 39ms/step - loss: 0.3711 - accuracy: 0.8341 - val_loss: 0.6497 - val_accuracy: 0.5856\n",
      "Epoch 6/30\n",
      "27/27 [==============================] - 1s 37ms/step - loss: 0.2867 - accuracy: 0.8673 - val_loss: 0.3466 - val_accuracy: 0.8453\n",
      "Epoch 7/30\n",
      "27/27 [==============================] - 1s 38ms/step - loss: 0.2650 - accuracy: 0.8886 - val_loss: 0.3981 - val_accuracy: 0.8232\n",
      "Epoch 8/30\n",
      "27/27 [==============================] - 1s 39ms/step - loss: 0.2246 - accuracy: 0.9147 - val_loss: 0.3449 - val_accuracy: 0.8508\n",
      "Epoch 9/30\n",
      "27/27 [==============================] - 1s 37ms/step - loss: 0.1419 - accuracy: 0.9526 - val_loss: 0.2176 - val_accuracy: 0.9392\n",
      "Epoch 10/30\n",
      "27/27 [==============================] - 1s 39ms/step - loss: 0.1120 - accuracy: 0.9621 - val_loss: 0.0520 - val_accuracy: 1.0000\n",
      "Epoch 11/30\n",
      "27/27 [==============================] - 1s 37ms/step - loss: 0.0958 - accuracy: 0.9573 - val_loss: 0.2304 - val_accuracy: 0.8564\n",
      "Epoch 12/30\n",
      "27/27 [==============================] - 1s 38ms/step - loss: 0.0768 - accuracy: 0.9645 - val_loss: 0.0605 - val_accuracy: 1.0000\n",
      "Epoch 13/30\n",
      "27/27 [==============================] - 1s 38ms/step - loss: 0.0488 - accuracy: 0.9858 - val_loss: 0.0255 - val_accuracy: 1.0000\n",
      "Epoch 14/30\n",
      "27/27 [==============================] - 1s 38ms/step - loss: 0.0340 - accuracy: 0.9929 - val_loss: 0.0123 - val_accuracy: 1.0000\n",
      "Epoch 15/30\n",
      "27/27 [==============================] - 1s 37ms/step - loss: 0.0227 - accuracy: 0.9976 - val_loss: 0.0135 - val_accuracy: 1.0000\n",
      "Epoch 16/30\n",
      "27/27 [==============================] - 1s 37ms/step - loss: 0.0135 - accuracy: 1.0000 - val_loss: 0.0036 - val_accuracy: 1.0000\n",
      "Epoch 17/30\n",
      "27/27 [==============================] - 1s 37ms/step - loss: 0.0256 - accuracy: 0.9929 - val_loss: 0.0449 - val_accuracy: 1.0000\n",
      "Epoch 18/30\n",
      "27/27 [==============================] - 1s 38ms/step - loss: 0.0163 - accuracy: 1.0000 - val_loss: 0.0266 - val_accuracy: 1.0000\n",
      "Epoch 19/30\n",
      "27/27 [==============================] - 1s 37ms/step - loss: 0.0075 - accuracy: 1.0000 - val_loss: 0.0072 - val_accuracy: 1.0000\n",
      "Epoch 20/30\n",
      "27/27 [==============================] - 1s 38ms/step - loss: 0.0071 - accuracy: 1.0000 - val_loss: 0.0036 - val_accuracy: 1.0000\n",
      "Epoch 21/30\n",
      "27/27 [==============================] - 1s 38ms/step - loss: 0.0042 - accuracy: 1.0000 - val_loss: 0.0047 - val_accuracy: 1.0000\n"
     ]
    }
   ],
   "source": [
    "esp = EarlyStopping(monitor = 'val_loss',patience = 5 , restore_best_weights=True)\n",
    "history = model1.fit(train_X,train_y,epochs=30,batch_size=16,validation_split=0.3,verbose=1,callbacks=esp)"
   ]
  },
  {
   "cell_type": "code",
   "execution_count": 171,
   "id": "d75292fd-81d2-4087-8536-57c654bba305",
   "metadata": {},
   "outputs": [
    {
     "name": "stdout",
     "output_type": "stream",
     "text": [
      "4/4 [==============================] - 0s 16ms/step - loss: 0.9955 - accuracy: 0.8618\n"
     ]
    },
    {
     "data": {
      "text/plain": [
       "[0.9954841136932373, 0.8617886304855347]"
      ]
     },
     "execution_count": 171,
     "metadata": {},
     "output_type": "execute_result"
    }
   ],
   "source": [
    "model1.evaluate(test_X,test_y)"
   ]
  },
  {
   "cell_type": "code",
   "execution_count": 172,
   "id": "20d4dfa9-0ff9-41ad-87d6-60e5bec68826",
   "metadata": {},
   "outputs": [
    {
     "name": "stdout",
     "output_type": "stream",
     "text": [
      "4/4 [==============================] - 0s 16ms/step\n"
     ]
    },
    {
     "data": {
      "image/png": "[encoded data removed]",
      "text/plain": [
       "<Figure size 640x480 with 1 Axes>"
      ]
     },
     "metadata": {},
     "output_type": "display_data"
    }
   ],
   "source": [
    "pred=model1.predict(test_X)\n",
    "\n",
    "from sklearn.metrics import roc_curve, auc\n",
    "\n",
    "\n",
    "fpr, tpr, thresholds = roc_curve(test_y, pred)\n",
    "\n",
    "# AUC 계산\n",
    "roc_auc = auc(fpr, tpr)\n",
    "\n",
    "# ROC 커브 그리기\n",
    "plt.figure()\n",
    "plt.plot(fpr, tpr, color='blue', lw=2, label=f'ROC curve (area = {roc_auc:.2f})')\n",
    "plt.plot([0, 1], [0, 1], color='gray', lw=2, linestyle='--')\n",
    "plt.xlim([0.0, 1.0])\n",
    "plt.ylim([0.0, 1.05])\n",
    "plt.xlabel('False Positive Rate')\n",
    "plt.ylabel('True Positive Rate')\n",
    "plt.title('ROC Curve')\n",
    "plt.legend(loc=\"lower right\")\n",
    "plt.show()"
   ]
  },
  {
   "cell_type": "markdown",
   "id": "15e2e361-469b-4241-b54c-4c8b519da3fa",
   "metadata": {},
   "source": [
    "---\n",
    "# model2"
   ]
  },
  {
   "cell_type": "code",
   "execution_count": 151,
   "id": "2c24e447-d35c-4ec2-a834-35de79652abd",
   "metadata": {},
   "outputs": [],
   "source": [
    "def create_model2():\n",
    "    # 이미지 입력 처리\n",
    "    image_input = layers.Input(shape=(100, 100, 3))\n",
    "    x = layers.Conv2D(32, (3, 3), activation='relu')(image_input)\n",
    "    x = layers.MaxPooling2D((2, 2))(x)\n",
    "    x = layers.Conv2D(64, (3, 3), activation='relu')(x)\n",
    "    x = layers.MaxPooling2D((2, 2))(x)\n",
    "    x = layers.Conv2D(128, (3, 3), activation='relu')(x)\n",
    "    x = layers.Flatten()(x)\n",
    "    x = layers.Dense(128, activation='relu')(x)\n",
    "    #x = layers.Dropout(0.4)(x)\n",
    "    image_output = x\n",
    "\n",
    "    # 변수 입력 처리 (SELU 적용)\n",
    "    variables_input = layers.Input(shape=(40,))\n",
    "    y = layers.Dense(64, activation='selu')(variables_input)  # SELU 활성화 함수 사용\n",
    "    y = layers.Dropout(0.2)(y)\n",
    "    y = layers.Dense(128, activation='selu')(variables_input)  # SELU 활성화 함수 사용\n",
    "    y = layers.Dropout(0.2)(y)\n",
    "\n",
    "    # 입력 병합\n",
    "    merged = layers.multiply([image_output, y])\n",
    "    z = layers.Dense(32, activation='relu')(merged)  # 추가 Dense 레이어\n",
    "    z = layers.Dropout(0.3)(z)  # 병합 후 추가 드롭아웃\n",
    "    z = layers.Dense(16, activation='relu')(z) \n",
    "    z = layers.Dropout(0.3)(z)\n",
    "    # 출력 레이어\n",
    "    output = layers.Dense(1, activation='sigmoid')(z)\n",
    "    model = models.Model(inputs=[image_input, variables_input], outputs=output)\n",
    "\n",
    "    # 모델 컴파일\n",
    "    optimizer = Adam(learning_rate=0.0005)\n",
    "    model.compile(optimizer=optimizer, loss='binary_crossentropy', metrics=['accuracy'])\n",
    "\n",
    "    return model\n",
    "\n",
    "# 모델 생성\n",
    "model2 = create_model2()\n"
   ]
  },
  {
   "cell_type": "code",
   "execution_count": 152,
   "id": "ac552f30-b79e-47db-9154-940676dcf1bf",
   "metadata": {
    "scrolled": true
   },
   "outputs": [
    {
     "name": "stdout",
     "output_type": "stream",
     "text": [
      "Epoch 1/50\n",
      "27/27 [==============================] - 3s 69ms/step - loss: 0.5819 - accuracy: 0.6682 - val_loss: 1.0308 - val_accuracy: 0.3536\n",
      "Epoch 2/50\n",
      "27/27 [==============================] - 2s 65ms/step - loss: 0.5176 - accuracy: 0.7701 - val_loss: 0.6528 - val_accuracy: 0.6409\n",
      "Epoch 3/50\n",
      "27/27 [==============================] - 2s 65ms/step - loss: 0.4666 - accuracy: 0.7725 - val_loss: 0.5356 - val_accuracy: 0.7680\n",
      "Epoch 4/50\n",
      "27/27 [==============================] - 2s 65ms/step - loss: 0.3665 - accuracy: 0.8270 - val_loss: 0.4981 - val_accuracy: 0.7956\n",
      "Epoch 5/50\n",
      "27/27 [==============================] - 2s 66ms/step - loss: 0.3911 - accuracy: 0.8152 - val_loss: 0.3999 - val_accuracy: 0.8564\n",
      "Epoch 6/50\n",
      "27/27 [==============================] - 2s 66ms/step - loss: 0.3239 - accuracy: 0.8649 - val_loss: 0.3896 - val_accuracy: 0.8840\n",
      "Epoch 7/50\n",
      "27/27 [==============================] - 2s 66ms/step - loss: 0.3013 - accuracy: 0.8744 - val_loss: 0.2085 - val_accuracy: 0.9669\n",
      "Epoch 8/50\n",
      "27/27 [==============================] - 2s 67ms/step - loss: 0.2149 - accuracy: 0.9123 - val_loss: 0.2477 - val_accuracy: 0.9061\n",
      "Epoch 9/50\n",
      "27/27 [==============================] - 2s 67ms/step - loss: 0.2119 - accuracy: 0.9147 - val_loss: 0.1789 - val_accuracy: 0.9669\n",
      "Epoch 10/50\n",
      "27/27 [==============================] - 2s 66ms/step - loss: 0.2109 - accuracy: 0.9265 - val_loss: 0.1016 - val_accuracy: 0.9669\n",
      "Epoch 11/50\n",
      "27/27 [==============================] - 2s 66ms/step - loss: 0.1607 - accuracy: 0.9360 - val_loss: 0.0964 - val_accuracy: 0.9669\n",
      "Epoch 12/50\n",
      "27/27 [==============================] - 2s 65ms/step - loss: 0.1301 - accuracy: 0.9573 - val_loss: 0.0924 - val_accuracy: 0.9669\n",
      "Epoch 13/50\n",
      "27/27 [==============================] - 2s 66ms/step - loss: 0.1330 - accuracy: 0.9455 - val_loss: 0.0546 - val_accuracy: 1.0000\n",
      "Epoch 14/50\n",
      "27/27 [==============================] - 2s 66ms/step - loss: 0.0956 - accuracy: 0.9692 - val_loss: 0.0251 - val_accuracy: 1.0000\n",
      "Epoch 15/50\n",
      "27/27 [==============================] - 2s 65ms/step - loss: 0.1333 - accuracy: 0.9573 - val_loss: 0.0734 - val_accuracy: 1.0000\n",
      "Epoch 16/50\n",
      "27/27 [==============================] - 2s 66ms/step - loss: 0.1078 - accuracy: 0.9692 - val_loss: 0.0490 - val_accuracy: 1.0000\n",
      "Epoch 17/50\n",
      "27/27 [==============================] - 2s 67ms/step - loss: 0.1072 - accuracy: 0.9597 - val_loss: 0.0510 - val_accuracy: 1.0000\n",
      "Epoch 18/50\n",
      "27/27 [==============================] - 2s 65ms/step - loss: 0.0663 - accuracy: 0.9763 - val_loss: 0.0221 - val_accuracy: 1.0000\n",
      "Epoch 19/50\n",
      "27/27 [==============================] - 2s 66ms/step - loss: 0.0762 - accuracy: 0.9810 - val_loss: 0.0296 - val_accuracy: 1.0000\n",
      "Epoch 20/50\n",
      "27/27 [==============================] - 2s 66ms/step - loss: 0.0648 - accuracy: 0.9810 - val_loss: 0.0255 - val_accuracy: 1.0000\n",
      "Epoch 21/50\n",
      "27/27 [==============================] - 2s 66ms/step - loss: 0.0577 - accuracy: 0.9763 - val_loss: 0.0123 - val_accuracy: 1.0000\n",
      "Epoch 22/50\n",
      "27/27 [==============================] - 2s 66ms/step - loss: 0.0517 - accuracy: 0.9810 - val_loss: 0.0119 - val_accuracy: 1.0000\n",
      "Epoch 23/50\n",
      "27/27 [==============================] - 2s 66ms/step - loss: 0.0626 - accuracy: 0.9763 - val_loss: 0.0096 - val_accuracy: 1.0000\n",
      "Epoch 24/50\n",
      "27/27 [==============================] - 2s 66ms/step - loss: 0.0278 - accuracy: 0.9882 - val_loss: 0.0077 - val_accuracy: 1.0000\n",
      "Epoch 25/50\n",
      "27/27 [==============================] - 2s 67ms/step - loss: 0.0815 - accuracy: 0.9810 - val_loss: 0.0124 - val_accuracy: 1.0000\n",
      "Epoch 26/50\n",
      "27/27 [==============================] - 2s 65ms/step - loss: 0.0238 - accuracy: 0.9953 - val_loss: 0.0051 - val_accuracy: 1.0000\n",
      "Epoch 27/50\n",
      "27/27 [==============================] - 2s 65ms/step - loss: 0.1023 - accuracy: 0.9739 - val_loss: 0.0160 - val_accuracy: 1.0000\n",
      "Epoch 28/50\n",
      "27/27 [==============================] - 2s 67ms/step - loss: 0.0374 - accuracy: 0.9834 - val_loss: 0.0101 - val_accuracy: 1.0000\n",
      "Epoch 29/50\n",
      "27/27 [==============================] - 2s 66ms/step - loss: 0.0349 - accuracy: 0.9834 - val_loss: 0.0078 - val_accuracy: 1.0000\n",
      "Epoch 30/50\n",
      "27/27 [==============================] - 2s 66ms/step - loss: 0.0199 - accuracy: 0.9929 - val_loss: 0.0024 - val_accuracy: 1.0000\n",
      "Epoch 31/50\n",
      "27/27 [==============================] - 2s 66ms/step - loss: 0.0459 - accuracy: 0.9882 - val_loss: 0.0036 - val_accuracy: 1.0000\n",
      "Epoch 32/50\n",
      "27/27 [==============================] - 2s 66ms/step - loss: 0.0223 - accuracy: 0.9929 - val_loss: 0.0048 - val_accuracy: 1.0000\n",
      "Epoch 33/50\n",
      "27/27 [==============================] - 2s 66ms/step - loss: 0.0245 - accuracy: 0.9905 - val_loss: 0.0043 - val_accuracy: 1.0000\n",
      "Epoch 34/50\n",
      "27/27 [==============================] - 2s 65ms/step - loss: 0.0179 - accuracy: 0.9953 - val_loss: 0.0013 - val_accuracy: 1.0000\n",
      "Epoch 35/50\n",
      "27/27 [==============================] - 2s 65ms/step - loss: 0.0116 - accuracy: 0.9953 - val_loss: 6.2309e-04 - val_accuracy: 1.0000\n",
      "Epoch 36/50\n",
      "27/27 [==============================] - 2s 65ms/step - loss: 0.0158 - accuracy: 0.9929 - val_loss: 6.5112e-04 - val_accuracy: 1.0000\n",
      "Epoch 37/50\n",
      "27/27 [==============================] - 2s 66ms/step - loss: 0.0458 - accuracy: 0.9905 - val_loss: 0.0068 - val_accuracy: 1.0000\n",
      "Epoch 38/50\n",
      "27/27 [==============================] - 2s 66ms/step - loss: 0.0389 - accuracy: 0.9882 - val_loss: 0.0051 - val_accuracy: 1.0000\n",
      "Epoch 39/50\n",
      "27/27 [==============================] - 2s 65ms/step - loss: 0.0201 - accuracy: 0.9929 - val_loss: 0.0022 - val_accuracy: 1.0000\n",
      "Epoch 40/50\n",
      "27/27 [==============================] - 2s 67ms/step - loss: 0.0197 - accuracy: 0.9929 - val_loss: 7.6587e-04 - val_accuracy: 1.0000\n"
     ]
    }
   ],
   "source": [
    "history = model2.fit([train_X,noimg_train_X],train_y,epochs=50,batch_size=16,validation_split= 0.3,verbose=1,callbacks=esp)"
   ]
  },
  {
   "cell_type": "code",
   "execution_count": 157,
   "id": "65b41760-89eb-4d4d-a43b-3930023752ad",
   "metadata": {},
   "outputs": [
    {
     "name": "stdout",
     "output_type": "stream",
     "text": [
      "4/4 [==============================] - 0s 15ms/step - loss: 0.4437 - accuracy: 0.9512\n"
     ]
    },
    {
     "data": {
      "text/plain": [
       "[0.44367271661758423, 0.9512194991111755]"
      ]
     },
     "execution_count": 157,
     "metadata": {},
     "output_type": "execute_result"
    }
   ],
   "source": [
    "model2.evaluate([test_X,noimg_test_X],test_y)"
   ]
  },
  {
   "cell_type": "code",
   "execution_count": 153,
   "id": "d242a7d7-0c39-4342-9a39-42541da50e08",
   "metadata": {},
   "outputs": [
    {
     "name": "stdout",
     "output_type": "stream",
     "text": [
      "4/4 [==============================] - 0s 16ms/step\n"
     ]
    },
    {
     "data": {
      "image/png": "[encoded data removed]",
      "text/plain": [
       "<Figure size 640x480 with 1 Axes>"
      ]
     },
     "metadata": {},
     "output_type": "display_data"
    }
   ],
   "source": [
    "pred=model2.predict([test_X,noimg_test_X])\n",
    "\n",
    "from sklearn.metrics import roc_curve, auc\n",
    "\n",
    "\n",
    "fpr, tpr, thresholds = roc_curve(test_y, pred)\n",
    "\n",
    "# AUC 계산\n",
    "roc_auc = auc(fpr, tpr)\n",
    "\n",
    "# ROC 커브 그리기\n",
    "plt.figure()\n",
    "plt.plot(fpr, tpr, color='blue', lw=2, label=f'ROC curve (area = {roc_auc:.2f})')\n",
    "plt.plot([0, 1], [0, 1], color='gray', lw=2, linestyle='--')\n",
    "plt.xlim([0.0, 1.0])\n",
    "plt.ylim([0.0, 1.05])\n",
    "plt.xlabel('False Positive Rate')\n",
    "plt.ylabel('True Positive Rate')\n",
    "plt.title('ROC Curve')\n",
    "plt.legend(loc=\"lower right\")\n",
    "plt.show()"
   ]
  },
  {
   "cell_type": "code",
   "execution_count": 183,
   "id": "0e1bebaf-e1ab-41cb-b5e1-5bb181475560",
   "metadata": {},
   "outputs": [],
   "source": [
    "train_Xf= np.concatenate([train_X,test_X])\n",
    "train_yf = np.concatenate([train_y,test_y])\n",
    "noimg_train_Xf = np.concatenate([noimg_train_X,noimg_train_y])"
   ]
  },
  {
   "cell_type": "code",
   "execution_count": 187,
   "id": "09db1364-ee94-4776-a1e6-613ac40f4834",
   "metadata": {},
   "outputs": [
    {
     "name": "stdout",
     "output_type": "stream",
     "text": [
      "\n",
      "Fold 1 시작:\n",
      "Fold 1 val_accuracy: 0.9520547986030579, val_auc: 0.9976958632469177\n",
      "\n",
      "Fold 2 시작:\n",
      "Fold 2 val_accuracy: 0.9448275566101074, val_auc: 0.9791906476020813\n",
      "\n",
      "Fold 3 시작:\n",
      "Fold 3 val_accuracy: 0.9448275566101074, val_auc: 0.9841507077217102\n",
      "\n",
      "Fold 4 시작:\n",
      "Fold 4 val_accuracy: 0.9586206674575806, val_auc: 0.9722222089767456\n",
      "\n",
      "Fold 5 시작:\n",
      "Fold 5 val_accuracy: 0.9655172228813171, val_auc: 0.984953761100769\n",
      "\n",
      "val_accuracy mean across 5 folds: 0.9531695604324341\n",
      "val_auc mean across 5 folds: 0.9836426377296448\n"
     ]
    }
   ],
   "source": [
    "from sklearn.model_selection import KFold\n",
    "from tensorflow.keras.metrics import AUC\n",
    "def create_model2():\n",
    "    # 이미지 입력 처리\n",
    "    image_input = layers.Input(shape=(100, 100, 3))\n",
    "    x = layers.Conv2D(32, (3, 3), activation='relu')(image_input)\n",
    "    x = layers.MaxPooling2D((2, 2))(x)\n",
    "    x = layers.Conv2D(64, (3, 3), activation='relu')(x)\n",
    "    x = layers.MaxPooling2D((2, 2))(x)\n",
    "    x = layers.Conv2D(128, (3, 3), activation='relu')(x)\n",
    "    x = layers.Flatten()(x)\n",
    "    x = layers.Dense(128, activation='relu')(x)\n",
    "    image_output = x\n",
    "\n",
    "    # 변수 입력 처리 (SELU 적용)\n",
    "    variables_input = layers.Input(shape=(40,))\n",
    "    y = layers.Dense(64, activation='selu')(variables_input)\n",
    "    y = layers.Dropout(0.2)(y)\n",
    "    y = layers.Dense(128, activation='selu')(y)\n",
    "    y = layers.Dropout(0.2)(y)\n",
    "\n",
    "    # 입력 병합\n",
    "    merged = layers.multiply([image_output, y])\n",
    "    z = layers.Dense(32, activation='relu')(merged)\n",
    "    z = layers.Dropout(0.3)(z)\n",
    "    z = layers.Dense(16, activation='relu')(z) \n",
    "    z = layers.Dropout(0.3)(z)\n",
    "\n",
    "    # 출력 레이어\n",
    "    output = layers.Dense(1, activation='sigmoid')(z)\n",
    "    model = models.Model(inputs=[image_input, variables_input], outputs=output)\n",
    "\n",
    "    # 모델 컴파일\n",
    "    optimizer = Adam(learning_rate=0.0005)\n",
    "    model.compile(optimizer=optimizer, loss='binary_crossentropy',  metrics=['accuracy', AUC(name='auc')])\n",
    "\n",
    "    return model\n",
    "\n",
    "# KFold 설정\n",
    "k = 5  # K의 값 설정\n",
    "kf = KFold(n_splits=k, shuffle=True, random_state=42)\n",
    "\n",
    "fold_accuracies = []\n",
    "test_accuracies = []\n",
    "fold_aucs = []\n",
    "test_aucs = []\n",
    "for fold, (train_index, val_index) in enumerate(kf.split(train_Xf), 1):\n",
    "    print(f\"\\nFold {fold} 시작:\")\n",
    "    K.clear_session()\n",
    "    # 훈련 및 검증 데이터 분리\n",
    "    X_image_train, X_image_val = train_Xf[train_index], train_Xf[val_index]\n",
    "    X_variables_train, X_variables_val = noimg_train_Xf[train_index],noimg_train_Xf[val_index]\n",
    "    y_train, y_val = train_yf[train_index], train_yf[val_index]\n",
    "    \n",
    "    # 각 폴드에서 새로운 모델 생성\n",
    "    model = create_model2()\n",
    "    \n",
    "    # 모델 학습\n",
    "    esp = EarlyStopping(monitor = 'val_loss',patience = 5 , restore_best_weights=True)\n",
    "    model.fit([X_image_train, X_variables_train], y_train, validation_split= 0.3, epochs=50, batch_size=16, verbose=0, callbacks=esp)\n",
    "    \n",
    "    val_loss, val_accuracy, val_auc = model.evaluate([X_image_val, X_variables_val], y_val, verbose=0)\n",
    "    #test_loss, test_accuracy, test_auc = model.evaluate([test_X, noimg_test_X], test_y, verbose=0)\n",
    "    \n",
    "    fold_accuracies.append(val_accuracy)\n",
    "    #test_accuracies.append(test_accuracy)\n",
    "    fold_aucs.append(val_auc)\n",
    "    #test_aucs.append(test_auc)\n",
    "    \n",
    "    print(f\"Fold {fold} val_accuracy: {val_accuracy}, val_auc: {val_auc}\")\n",
    "    #print(f\"Fold {fold} test_accuracy: {test_accuracy}, test_auc: {test_auc}\")\n",
    "    del model\n",
    "\n",
    "print(f\"\\nval_accuracy mean across {k} folds: {np.mean(fold_accuracies)}\")\n",
    "print(f\"val_auc mean across {k} folds: {np.mean(fold_aucs)}\")\n",
    "#print(f\"\\ntest_accuracy mean across {k} folds: {np.mean(test_accuracies)}\")\n",
    "#print(f\"test_auc mean across {k} folds: {np.mean(test_aucs)}\")\n"
   ]
  },
  {
   "cell_type": "markdown",
   "id": "e7640e00-8046-41a9-a868-2da03baf6eaf",
   "metadata": {},
   "source": [
    "---\n",
    "# model3"
   ]
  },
  {
   "cell_type": "code",
   "execution_count": 128,
   "id": "55c4ab8b-7abd-4faa-a7c5-590241f929ae",
   "metadata": {},
   "outputs": [],
   "source": [
    "from __future__ import print_function\n",
    "import numpy as np\n",
    "import tensorflow as tf\n",
    "import keras\n",
    "from keras.models import Model\n",
    "from keras.layers import Input, multiply, Dense, Dropout, Flatten, GaussianNoise, AlphaDropout, ReLU, Conv2D, BatchNormalization\n",
    "from keras.activations import selu\n",
    "\n",
    "\n",
    "def CustomNet():\n",
    "    image_input=Input((100,100,3),name='image_input')\n",
    "    clinic_input=Input((40,),name='clinical_input')\n",
    "\n",
    "################ clinical side\n",
    "\n",
    "    co1=Dense(64,activation='selu',kernel_initializer='lecun_normal',bias_initializer='lecun_normal')(clinic_input)\n",
    "    co1=AlphaDropout(0.1)(co1)\n",
    "\n",
    "    co2=Dense(64,activation='selu',kernel_initializer='lecun_normal',bias_initializer='lecun_normal')(co1)\n",
    "    co2=AlphaDropout(0.1)(co2)\n",
    "\n",
    "    co3=Dense(128,activation='selu',kernel_initializer='lecun_normal',bias_initializer='lecun_normal')(co2)\n",
    "    co3=AlphaDropout(0.1)(co3)\n",
    "\n",
    "    co4=Dense(256,activation='selu',kernel_initializer='lecun_normal',bias_initializer='lecun_normal')(co3)\n",
    "    co4=AlphaDropout(0.1)(co4)\n",
    "\n",
    "    co5=Dense(256,activation='selu',kernel_initializer='lecun_normal',bias_initializer='lecun_normal')(co4)\n",
    "    co5=AlphaDropout(0.1)(co5)\n",
    "\n",
    "############### image side\n",
    "\n",
    "    output=Conv2D(64, (3, 3), padding='same',use_bias=False,kernel_initializer=keras.initializers.he_normal(seed=122))(image_input)\n",
    "    output=BatchNormalization(axis=-1,center=False)(output)\n",
    "    output=ReLU()(output)\n",
    "\n",
    "    output=Conv2D(64, (3, 3), strides=(2,2), padding='same',use_bias=False,kernel_initializer=keras.initializers.he_normal(seed=123))(output)\n",
    "    output=multiply([output,co1])\n",
    "    output=BatchNormalization(axis=-1,center=False)(output)\n",
    "    output=ReLU()(output)\n",
    "\n",
    "##############\n",
    "    output=Conv2D(64, (3, 3), padding='same',use_bias=False,kernel_initializer=keras.initializers.he_normal(seed=124))(output)\n",
    "    output=BatchNormalization(axis=-1,center=False)(output)\n",
    "    output=ReLU()(output)\n",
    "\n",
    "    output=Conv2D(64, (3, 3), strides=(2,2),padding='same',use_bias=False,kernel_initializer=keras.initializers.he_normal(seed=125))(output)\n",
    "    output=multiply([output,co2])\n",
    "    output=BatchNormalization(axis=-1,center=False)(output)\n",
    "    output=ReLU()(output)\n",
    "\n",
    "##############\n",
    "    output=Conv2D(128, (3,3), padding='same',use_bias=False,kernel_initializer=keras.initializers.he_normal(seed=126))(output)\n",
    "    output=BatchNormalization(axis=-1,center=False)(output)\n",
    "    output=ReLU()(output)\n",
    "\n",
    "    output=Conv2D(128, (3, 3), strides=(2,2), padding='same',use_bias=False,kernel_initializer=keras.initializers.he_normal(seed=127))(output)\n",
    "    output=multiply([output,co3])\n",
    "    output=BatchNormalization(axis=-1,center=False)(output)\n",
    "    output=ReLU()(output)\n",
    "############\n",
    "    output=Conv2D(256, (3, 3), padding='same',use_bias=False,kernel_initializer=keras.initializers.he_normal(seed=129))(output)\n",
    "    output=BatchNormalization(axis=-1,center=False)(output)\n",
    "    output=ReLU()(output)\n",
    "\n",
    "    output=Conv2D(256, (3, 3), strides=(2,2), padding='same',use_bias=False,kernel_initializer=keras.initializers.he_normal(seed=130))(output)\n",
    "    output=multiply([output,co4])\n",
    "    output=BatchNormalization(axis=-1,center=False)(output)\n",
    "    output=ReLU()(output)\n",
    "#############\n",
    "    output=Conv2D(256, (3, 3), padding='same',use_bias=False,kernel_initializer=keras.initializers.he_normal(seed=132))(output)\n",
    "    output=BatchNormalization(axis=-1,center=False)(output)\n",
    "    output=ReLU()(output)\n",
    "\n",
    "    output=Conv2D(256, (3, 3), strides=(2,2), padding='same',use_bias=False,kernel_initializer=keras.initializers.he_normal(seed=133))(output)\n",
    "    output=multiply([output,co5])\n",
    "    output=BatchNormalization(axis=-1,center=False)(output)\n",
    "    output=ReLU()(output)\n",
    "##############\n",
    "\n",
    "    output=Flatten()(output)\n",
    "    output=Dense(4096)(output)\n",
    "    output=ReLU()(output)\n",
    "\n",
    "\n",
    "    output=Dense(512)(output)\n",
    "    output=ReLU()(output)\n",
    "    output=Dense(64)(output)\n",
    "    output=ReLU()(output)\n",
    "\n",
    "\n",
    "    output=Dense(1,activation='sigmoid')(output)\n",
    "    #output=Activation('softmax')(output)\n",
    "\n",
    "    model=Model(inputs=[image_input,clinic_input],outputs=output)\n",
    "    optimizer = Adam(learning_rate=0.00005)\n",
    "    model.compile(optimizer=optimizer , loss='binary_crossentropy', metrics=['accuracy'])\n",
    "    return model "
   ]
  },
  {
   "cell_type": "code",
   "execution_count": 129,
   "id": "3181c0f6-d8de-4c5d-9be0-63dcfa09c249",
   "metadata": {},
   "outputs": [
    {
     "name": "stdout",
     "output_type": "stream",
     "text": [
      "Epoch 1/50\n",
      "27/27 [==============================] - 9s 270ms/step - loss: 0.6120 - accuracy: 0.7204 - val_loss: 0.7037 - val_accuracy: 0.1492\n",
      "Epoch 2/50\n",
      "27/27 [==============================] - 7s 264ms/step - loss: 0.6155 - accuracy: 0.7038 - val_loss: 0.6973 - val_accuracy: 0.5083\n",
      "Epoch 3/50\n",
      "27/27 [==============================] - 7s 265ms/step - loss: 0.5800 - accuracy: 0.7251 - val_loss: 0.7914 - val_accuracy: 0.0608\n",
      "Epoch 4/50\n",
      "27/27 [==============================] - 7s 262ms/step - loss: 0.5643 - accuracy: 0.7322 - val_loss: 0.7376 - val_accuracy: 0.4254\n",
      "Epoch 5/50\n",
      "27/27 [==============================] - 7s 263ms/step - loss: 0.5730 - accuracy: 0.7299 - val_loss: 0.7683 - val_accuracy: 0.3039\n",
      "Epoch 6/50\n",
      "27/27 [==============================] - 7s 259ms/step - loss: 0.6036 - accuracy: 0.6991 - val_loss: 0.6698 - val_accuracy: 0.5414\n",
      "Epoch 7/50\n",
      "27/27 [==============================] - 7s 260ms/step - loss: 0.5520 - accuracy: 0.7299 - val_loss: 0.8803 - val_accuracy: 0.1602\n",
      "Epoch 8/50\n",
      "27/27 [==============================] - 7s 264ms/step - loss: 0.5548 - accuracy: 0.7393 - val_loss: 0.9508 - val_accuracy: 0.1215\n",
      "Epoch 9/50\n",
      "27/27 [==============================] - 7s 259ms/step - loss: 0.5451 - accuracy: 0.7559 - val_loss: 0.9969 - val_accuracy: 0.0939\n",
      "Epoch 10/50\n",
      "27/27 [==============================] - 7s 259ms/step - loss: 0.5257 - accuracy: 0.7630 - val_loss: 0.8520 - val_accuracy: 0.2983\n",
      "Epoch 11/50\n",
      "27/27 [==============================] - 7s 266ms/step - loss: 0.5374 - accuracy: 0.7275 - val_loss: 0.8363 - val_accuracy: 0.2707\n"
     ]
    }
   ],
   "source": [
    "model3= CustomNet()\n",
    "#esp = EarlyStopping(monitor = 'val_loss',patience = 10 , restore_best_weights=True)\n",
    "history =model3.fit([train_X,noimg_train_X],train_y,epochs=50,batch_size=16,validation_split=0.3,verbose=1,callbacks=[esp])"
   ]
  },
  {
   "cell_type": "code",
   "execution_count": 169,
   "id": "925b7f77-fb06-4d84-ae51-be23cfbecbc4",
   "metadata": {},
   "outputs": [
    {
     "name": "stdout",
     "output_type": "stream",
     "text": [
      "4/4 [==============================] - 0s 55ms/step - loss: 0.5399 - accuracy: 0.8374\n"
     ]
    },
    {
     "data": {
      "text/plain": [
       "[0.5399264693260193, 0.8373983502388]"
      ]
     },
     "execution_count": 169,
     "metadata": {},
     "output_type": "execute_result"
    }
   ],
   "source": [
    "model3.evaluate([test_X,noimg_test_X],test_y)"
   ]
  },
  {
   "cell_type": "code",
   "execution_count": 130,
   "id": "6d9594aa-8180-4e90-a796-e12d1ce1c052",
   "metadata": {},
   "outputs": [
    {
     "name": "stdout",
     "output_type": "stream",
     "text": [
      "4/4 [==============================] - 0s 60ms/step\n"
     ]
    },
    {
     "data": {
      "image/png": "[encoded data removed]",
      "text/plain": [
       "<Figure size 640x480 with 1 Axes>"
      ]
     },
     "metadata": {},
     "output_type": "display_data"
    }
   ],
   "source": [
    "pred=model3.predict([test_X,noimg_test_X])\n",
    "\n",
    "from sklearn.metrics import roc_curve, auc\n",
    "\n",
    "\n",
    "fpr, tpr, thresholds = roc_curve(test_y, pred)\n",
    "\n",
    "# AUC 계산\n",
    "roc_auc = auc(fpr, tpr)\n",
    "\n",
    "# ROC 커브 그리기\n",
    "plt.figure()\n",
    "plt.plot(fpr, tpr, color='blue', lw=2, label=f'ROC curve (area = {roc_auc:.2f})')\n",
    "plt.plot([0, 1], [0, 1], color='gray', lw=2, linestyle='--')\n",
    "plt.xlim([0.0, 1.0])\n",
    "plt.ylim([0.0, 1.05])\n",
    "plt.xlabel('False Positive Rate')\n",
    "plt.ylabel('True Positive Rate')\n",
    "plt.title('ROC Curve')\n",
    "plt.legend(loc=\"lower right\")\n",
    "plt.show()"
   ]
  }
 ],
 "metadata": {
  "kernelspec": {
   "display_name": "Python 3 (ipykernel)",
   "language": "python",
   "name": "python3"
  },
  "language_info": {
   "codemirror_mode": {
    "name": "ipython",
    "version": 3
   },
   "file_extension": ".py",
   "mimetype": "text/x-python",
   "name": "python",
   "nbconvert_exporter": "python",
   "pygments_lexer": "ipython3",
   "version": "3.10.13"
  }
 },
 "nbformat": 4,
 "nbformat_minor": 5
}
