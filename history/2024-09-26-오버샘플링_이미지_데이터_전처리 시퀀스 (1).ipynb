{
 "cells": [
  {
   "cell_type": "markdown",
   "id": "298d18f9",
   "metadata": {},
   "source": [
    "# 이미지 분류를 위한 데이터 전처리\n",
    "\n",
    "---"
   ]
  },
  {
   "cell_type": "code",
   "execution_count": 1,
   "id": "13733fca",
   "metadata": {},
   "outputs": [],
   "source": [
    "from glob import glob\n",
    "import os\n",
    "import numpy as np\n",
    "import pydicom\n",
    "#import skimage.external.tifffile \n",
    "import matplotlib.pyplot as plt\n",
    "#import imsave\n",
    "from PIL import Image\n",
    "import tensorflow as tf\n",
    "import matplotlib.pyplot as plt\n",
    "import pandas as pd"
   ]
  },
  {
   "cell_type": "markdown",
   "id": "81a0ac89",
   "metadata": {},
   "source": [
    "---\n",
    "## y_label\n",
    "\n",
    "- 0과 1의 라벨링\n",
    "- 다만 총 6개의 사진당 하나의 label이 부여되는 것을 고려해야한다"
   ]
  },
  {
   "cell_type": "code",
   "execution_count": 2,
   "id": "341be56f",
   "metadata": {},
   "outputs": [],
   "source": [
    "y_train = pd.read_csv(\"C:\\\\Users\\\\default.DESKTOP-2ISHQBS\\\\lab\\\\task3_dcm\\\\train_y_label.csv\")\n",
    "y_test = pd.read_csv(\"C:\\\\Users\\\\default.DESKTOP-2ISHQBS\\\\lab\\\\task3_dcm\\\\y_test.csv\")"
   ]
  },
  {
   "cell_type": "code",
   "execution_count": 3,
   "id": "a5c81a61",
   "metadata": {},
   "outputs": [
    {
     "data": {
      "text/plain": [
       "((331, 1), (126, 1))"
      ]
     },
     "execution_count": 3,
     "metadata": {},
     "output_type": "execute_result"
    }
   ],
   "source": [
    "y_train.shape, y_test.shape"
   ]
  },
  {
   "cell_type": "code",
   "execution_count": 4,
   "id": "5dfa323c",
   "metadata": {
    "scrolled": false
   },
   "outputs": [
    {
     "data": {
      "image/png": "[encoded data removed]",
      "text/plain": [
       "<Figure size 640x480 with 2 Axes>"
      ]
     },
     "metadata": {},
     "output_type": "display_data"
    }
   ],
   "source": [
    "fig, ax = plt.subplots(1, 2)\n",
    "\n",
    "# Train \n",
    "u_train, c_train = np.unique(y_train, return_counts=True)\n",
    "ax[0].bar(u_train, c_train, width=0.8, align='center')  \n",
    "ax[0].set_title('Train y_label')\n",
    "\n",
    "# Test\n",
    "u_test, c_test = np.unique(y_test, return_counts=True)\n",
    "ax[1].bar(u_test, c_test, width=0.8, align='center')  \n",
    "ax[1].set_title('Test y_label')\n",
    "\n",
    "plt.show()\n"
   ]
  },
  {
   "cell_type": "markdown",
   "id": "f83e8028",
   "metadata": {},
   "source": [
    "## input_X\n",
    "\n",
    "- train에서 규칙에서 벗어난 사진이 있음 133부턴 0이아니라 5가 다른 사진임\n",
    "- 규격이 다르기 때문에 꼭 따로 훈련을 시켜야할 것으로 보인다\n",
    "- array([ 10,  17,  24,  35, 117, 156, 160, 181, 195, 209, 219, 228, 269,\n",
    "       273, 297]) 훈련셋 누락\n",
    "- array([  8,  72,  74, 104, 113, 115, 119, 123, 131, 135]) 테스트셋 누락"
   ]
  },
  {
   "cell_type": "code",
   "execution_count": 5,
   "id": "4d13b6ca",
   "metadata": {},
   "outputs": [],
   "source": [
    "##################################################################################\n",
    "# 파일 주소 \n",
    "\n",
    "dir_train = 'C:\\\\Users\\\\default.DESKTOP-2ISHQBS\\\\lab\\\\task3_dcm\\\\X_train\\\\'\n",
    "dir_test = 'C:\\\\Users\\\\default.DESKTOP-2ISHQBS\\\\lab\\\\task3_dcm\\\\X_test\\\\'\n",
    "# dcm 파일 all reading \n",
    "dcm_files_train = glob(os.path.join(dir_train, '*.tif'))\n",
    "dcm_files_test = glob(os.path.join(dir_test, '*.tif'))\n",
    "\n",
    "##################################################################################\n",
    "# 같은 쉐잎을 가지고 있는 데이터만 우선 적용할 예정\n",
    "# train은 0마다 다른 흉상사진, test는 5마다 다른 흉상사진\n",
    "# 우선 제외하려고함\n",
    "#num_true_train  = [dcm_files_train[i][-5] != '0' for i in range(len(dcm_files_train))]\n",
    "#num_true_test = [dcm_files_test[i][-5] != '5' for i in range(len(dcm_files_test))]\n",
    "\n",
    "###################################################################################\n",
    "# 데이터프레임을 이용하여 논리연산자로 제외하고 싶은 사진을 제거\n",
    "\n",
    "#train_ad_df= pd.DataFrame(dcm_files_train)#[num_true_train]\n",
    "#test_ad_df =pd.DataFrame(dcm_files_test)#[num_true_test]"
   ]
  },
  {
   "cell_type": "code",
   "execution_count": 6,
   "id": "7b6562ab",
   "metadata": {},
   "outputs": [],
   "source": [
    "def preprocess_grayscale(file_path, target_size=(224, 224)):\n",
    "    # 이미지 불러오기\n",
    "    image = Image.open(file_path)\n",
    "    \n",
    "    # 이미지 크기 조정\n",
    "    image = image.resize(target_size)\n",
    "    \n",
    "    # 이미지를 흑백으로 변환\n",
    "    #image = image.convert('L')\n",
    "    \n",
    "    # 이미지를 넘파이 배열로 변환 및 정규화\n",
    "    image_array = np.array(image) / 255.0  # 정규화 (0~1 범위로)\n",
    "    \n",
    "    # 모델에 입력으로 제공하기 위해 넘파이 배열의 형태 변환 (차원 추가)\n",
    "    image_array = np.expand_dims(image_array, axis=2)\n",
    "    \n",
    "    return image_array\n"
   ]
  },
  {
   "cell_type": "code",
   "execution_count": 7,
   "id": "f951c23c",
   "metadata": {},
   "outputs": [],
   "source": [
    "X_train = np.array([preprocess_grayscale(dcm_files_train[i]) for i in range(len(dcm_files_train))])\n",
    "X_test = np.array([preprocess_grayscale(dcm_files_test[i]) for i in range(len(dcm_files_test))])"
   ]
  },
  {
   "cell_type": "code",
   "execution_count": 8,
   "id": "b42c141e",
   "metadata": {},
   "outputs": [],
   "source": [
    "X_train = np.tile(X_train, (1, 1, 1, 3)) # rgb 흑백이어서 채널을 늘리는 것\n",
    "X_test = np.tile(X_test, (1, 1, 1, 3))"
   ]
  },
  {
   "cell_type": "code",
   "execution_count": 9,
   "id": "4ee81f9d",
   "metadata": {
    "scrolled": true
   },
   "outputs": [
    {
     "data": {
      "text/plain": [
       "((1655, 224, 224, 3), (630, 224, 224, 3))"
      ]
     },
     "execution_count": 9,
     "metadata": {},
     "output_type": "execute_result"
    }
   ],
   "source": [
    "X_train.shape, X_test.shape"
   ]
  },
  {
   "cell_type": "code",
   "execution_count": 10,
   "id": "57204c81",
   "metadata": {},
   "outputs": [
    {
     "data": {
      "text/plain": [
       "((331, 5, 224, 224, 3), (126, 5, 224, 224, 3))"
      ]
     },
     "execution_count": 10,
     "metadata": {},
     "output_type": "execute_result"
    }
   ],
   "source": [
    "\n",
    "X_train_seq = []\n",
    "for i in range(0,int(len(X_train)/5)):\n",
    "    a =X_train[i:i+5]\n",
    "    X_train_seq.append(a)\n",
    "    \n",
    "    \n",
    "    \n",
    "X_test_seq = []\n",
    "for i in range(0,int(len(X_test)/5)):\n",
    "    a =X_test[i:i+5]\n",
    "    X_test_seq.append(a)\n",
    "    \n",
    "\n",
    "X_train_seq = np.array(X_train_seq)\n",
    "X_test_seq = np.array(X_test_seq)\n",
    "\n",
    "X_train_seq.shape, X_test_seq.shape\n"
   ]
  },
  {
   "cell_type": "code",
   "execution_count": 11,
   "id": "3beb3119",
   "metadata": {},
   "outputs": [
    {
     "data": {
      "text/plain": [
       "((331, 1), (126, 1))"
      ]
     },
     "execution_count": 11,
     "metadata": {},
     "output_type": "execute_result"
    }
   ],
   "source": [
    "y_train.shape, y_test.shape"
   ]
  },
  {
   "cell_type": "code",
   "execution_count": 12,
   "id": "16c3f333",
   "metadata": {},
   "outputs": [
    {
     "data": {
      "image/png": "[encoded data removed]",
      "text/plain": [
       "<Figure size 640x480 with 2 Axes>"
      ]
     },
     "metadata": {},
     "output_type": "display_data"
    }
   ],
   "source": [
    "d= list(enumerate(y_train.values[:].flatten()))\n",
    "\n",
    "\n",
    "f= [d[i][1] == 1 for i in range(len(d))]\n",
    "f2= [d[i][1] != 1 for i in range(len(d))]\n",
    "\n",
    "X_train_y_times5= np.concatenate([X_train_seq[f],X_train_seq[f],X_train_seq[f],X_train_seq[f],X_train_seq[f],X_train_seq[f]])\n",
    "y_train_y_times5= np.concatenate([y_train[f],y_train[f],y_train[f],y_train[f],y_train[f],y_train[f]])\n",
    "\n",
    "X= np.concatenate([X_train_y_times5,X_train_seq[f2]])\n",
    "y=np.concatenate([y_train_y_times5,y_train[f2]])\n",
    "\n",
    "np.random.seed(1)\n",
    "indices = np.arange(len(X))\n",
    "\n",
    "# 인덱스 셔플\n",
    "np.random.shuffle(indices)\n",
    "\n",
    "# 셔플된 인덱스를 사용하여 데이터를 섞음\n",
    "shuffled_X = X[indices]\n",
    "shuffled_y = y[indices]\n",
    "\n",
    "fig, ax = plt.subplots(1, 2)\n",
    "\n",
    "# Train \n",
    "u_train, c_train = np.unique(shuffled_y, return_counts=True)\n",
    "ax[0].bar(u_train, c_train, width=0.8, align='center')  \n",
    "ax[0].set_title('Train y_label')\n",
    "\n",
    "# Test\n",
    "u_test, c_test = np.unique(y_test, return_counts=True)\n",
    "ax[1].bar(u_test, c_test, width=0.8, align='center')  \n",
    "ax[1].set_title('Test y_label')\n",
    "\n",
    "plt.show()"
   ]
  }
 ],
 "metadata": {
  "kernelspec": {
   "display_name": "Python 3 (ipykernel)",
   "language": "python",
   "name": "python3"
  },
  "language_info": {
   "codemirror_mode": {
    "name": "ipython",
    "version": 3
   },
   "file_extension": ".py",
   "mimetype": "text/x-python",
   "name": "python",
   "nbconvert_exporter": "python",
   "pygments_lexer": "ipython3",
   "version": "3.10.9"
  }
 },
 "nbformat": 4,
 "nbformat_minor": 5
}
