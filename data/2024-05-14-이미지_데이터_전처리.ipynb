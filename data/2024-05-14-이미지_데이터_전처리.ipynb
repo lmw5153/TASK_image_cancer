{
 "cells": [
  {
   "cell_type": "markdown",
   "id": "298d18f9",
   "metadata": {},
   "source": [
    "# 이미지 분류를 위한 데이터 전처리\n",
    "\n",
    "---"
   ]
  },
  {
   "cell_type": "code",
   "execution_count": 4,
   "id": "13733fca",
   "metadata": {},
   "outputs": [],
   "source": [
    "from glob import glob\n",
    "import os\n",
    "import numpy as np\n",
    "import pydicom\n",
    "#import skimage.external.tifffile \n",
    "import matplotlib.pyplot as plt\n",
    "#import imsave\n",
    "from PIL import Image\n",
    "import tensorflow as tf\n",
    "import matplotlib.pyplot as plt\n",
    "import pandas as pd"
   ]
  },
  {
   "cell_type": "markdown",
   "id": "81a0ac89",
   "metadata": {},
   "source": [
    "---\n",
    "## y_label\n",
    "\n",
    "- 0과 1의 라벨링\n",
    "- 다만 총 6개의 사진당 하나의 label이 부여되는 것을 고려해야한다"
   ]
  },
  {
   "cell_type": "code",
   "execution_count": 183,
   "id": "341be56f",
   "metadata": {},
   "outputs": [],
   "source": [
    "y_train = pd.read_csv(\"C:\\\\Users\\\\default.DESKTOP-2ISHQBS\\\\lab\\\\task3_dcm\\\\train_y_label.csv\")\n",
    "y_test = pd.read_csv(\"C:\\\\Users\\\\default.DESKTOP-2ISHQBS\\\\lab\\\\task3_dcm\\\\y_test.csv\")"
   ]
  },
  {
   "cell_type": "code",
   "execution_count": 184,
   "id": "a5c81a61",
   "metadata": {},
   "outputs": [
    {
     "data": {
      "text/plain": [
       "((331, 1), (126, 1))"
      ]
     },
     "execution_count": 184,
     "metadata": {},
     "output_type": "execute_result"
    }
   ],
   "source": [
    "y_train.shape, y_test.shape"
   ]
  },
  {
   "cell_type": "code",
   "execution_count": 185,
   "id": "5dfa323c",
   "metadata": {
    "scrolled": false
   },
   "outputs": [
    {
     "data": {
      "image/png": "[encoded data removed]",
      "text/plain": [
       "<Figure size 640x480 with 2 Axes>"
      ]
     },
     "metadata": {},
     "output_type": "display_data"
    }
   ],
   "source": [
    "fig, ax = plt.subplots(1, 2)\n",
    "\n",
    "# Train \n",
    "u_train, c_train = np.unique(y_train, return_counts=True)\n",
    "ax[0].bar(u_train, c_train, width=0.8, align='center')  \n",
    "ax[0].set_title('Train y_label')\n",
    "\n",
    "# Test\n",
    "u_test, c_test = np.unique(y_test, return_counts=True)\n",
    "ax[1].bar(u_test, c_test, width=0.8, align='center')  \n",
    "ax[1].set_title('Test y_label')\n",
    "\n",
    "plt.show()\n"
   ]
  },
  {
   "cell_type": "code",
   "execution_count": 186,
   "id": "fd48d2c8",
   "metadata": {},
   "outputs": [
    {
     "data": {
      "text/plain": [
       "((1655,), (630,))"
      ]
     },
     "execution_count": 186,
     "metadata": {},
     "output_type": "execute_result"
    }
   ],
   "source": [
    "y_train_5= pd.concat([y_train,y_train,y_train,y_train,y_train],axis=1).values.flatten()\n",
    "y_test_5= pd.concat([y_test,y_test,y_test,y_test,y_test],axis=1).values.flatten()\n",
    "\n",
    "y_train_5.shape, y_test_5.shape"
   ]
  },
  {
   "cell_type": "markdown",
   "id": "f83e8028",
   "metadata": {},
   "source": [
    "## input_X\n",
    "\n",
    "- train에서 규칙에서 벗어난 사진이 있음 133부턴 0이아니라 5가 다른 사진임\n",
    "- 규격이 다르기 때문에 꼭 따로 훈련을 시켜야할 것으로 보인다\n",
    "- array([ 10,  17,  24,  35, 117, 156, 160, 181, 195, 209, 219, 228, 269,\n",
    "       273, 297]) 훈련셋 누락\n",
    "- array([  8,  72,  74, 104, 113, 115, 119, 123, 131, 135]) 테스트셋 누락"
   ]
  },
  {
   "cell_type": "code",
   "execution_count": 206,
   "id": "4d13b6ca",
   "metadata": {},
   "outputs": [],
   "source": [
    "##################################################################################\n",
    "# 파일 주소 \n",
    "\n",
    "dir_train = 'C:\\\\Users\\\\default.DESKTOP-2ISHQBS\\\\lab\\\\task3_dcm\\\\X_train\\\\'\n",
    "dir_test = 'C:\\\\Users\\\\default.DESKTOP-2ISHQBS\\\\lab\\\\task3_dcm\\\\X_test\\\\'\n",
    "# dcm 파일 all reading \n",
    "dcm_files_train = glob(os.path.join(dir_train, '*.tif'))\n",
    "dcm_files_test = glob(os.path.join(dir_test, '*.tif'))\n",
    "\n",
    "##################################################################################\n",
    "# 같은 쉐잎을 가지고 있는 데이터만 우선 적용할 예정\n",
    "# train은 0마다 다른 흉상사진, test는 5마다 다른 흉상사진\n",
    "# 우선 제외하려고함\n",
    "#num_true_train  = [dcm_files_train[i][-5] != '0' for i in range(len(dcm_files_train))]\n",
    "#num_true_test = [dcm_files_test[i][-5] != '5' for i in range(len(dcm_files_test))]\n",
    "\n",
    "###################################################################################\n",
    "# 데이터프레임을 이용하여 논리연산자로 제외하고 싶은 사진을 제거\n",
    "\n",
    "#train_ad_df= pd.DataFrame(dcm_files_train)#[num_true_train]\n",
    "#test_ad_df =pd.DataFrame(dcm_files_test)#[num_true_test]"
   ]
  },
  {
   "cell_type": "code",
   "execution_count": 210,
   "id": "7b6562ab",
   "metadata": {},
   "outputs": [
    {
     "name": "stdout",
     "output_type": "stream",
     "text": [
      "전처리된 흑백 이미지의 모양: (224, 224, 1)\n"
     ]
    }
   ],
   "source": [
    "def preprocess_grayscale(file_path, target_size=(224, 224)):\n",
    "    # 이미지 불러오기\n",
    "    image = Image.open(file_path)\n",
    "    \n",
    "    # 이미지 크기 조정\n",
    "    image = image.resize(target_size)\n",
    "    \n",
    "    # 이미지를 흑백으로 변환\n",
    "    #image = image.convert('L')\n",
    "    \n",
    "    # 이미지를 넘파이 배열로 변환 및 정규화\n",
    "    image_array = np.array(image) / 255.0  # 정규화 (0~1 범위로)\n",
    "    \n",
    "    # 모델에 입력으로 제공하기 위해 넘파이 배열의 형태 변환 (차원 추가)\n",
    "    image_array = np.expand_dims(image_array, axis=2)\n",
    "    \n",
    "    return image_array\n"
   ]
  },
  {
   "cell_type": "code",
   "execution_count": 211,
   "id": "f951c23c",
   "metadata": {},
   "outputs": [],
   "source": [
    "X_train = np.array([preprocess_grayscale(dcm_files_train[i]) for i in range(len(dcm_files_train))])\n",
    "X_test = np.array([preprocess_grayscale(dcm_files_test[i]) for i in range(len(dcm_files_test))])"
   ]
  },
  {
   "cell_type": "code",
   "execution_count": 212,
   "id": "4ee81f9d",
   "metadata": {},
   "outputs": [
    {
     "data": {
      "text/plain": [
       "((1655, 224, 224, 1), (630, 224, 224, 1))"
      ]
     },
     "execution_count": 212,
     "metadata": {},
     "output_type": "execute_result"
    }
   ],
   "source": [
    "X_train.shape, X_test.shape"
   ]
  }
 ],
 "metadata": {
  "kernelspec": {
   "display_name": "Python 3 (ipykernel)",
   "language": "python",
   "name": "python3"
  },
  "language_info": {
   "codemirror_mode": {
    "name": "ipython",
    "version": 3
   },
   "file_extension": ".py",
   "mimetype": "text/x-python",
   "name": "python",
   "nbconvert_exporter": "python",
   "pygments_lexer": "ipython3",
   "version": "3.10.9"
  }
 },
 "nbformat": 4,
 "nbformat_minor": 5
}
